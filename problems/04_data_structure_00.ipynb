{
 "cells": [
  {
   "cell_type": "markdown",
   "metadata": {},
   "source": [
    "# 최대공약수, 최소공배수 구하기\n",
    "\n",
    "> 두 수를 입력받아 두 수의 최대공약수와 최소공배수를 반환하는 함수 `gcdlcm`을 작성하세요.\n",
    ">\n",
    "> 배열의 맨 앞에 최대공약수, 그 다음 최소공배수를 넣어 반환하세요. \n",
    ">\n",
    "> 예를 들어 두 수 3, 12의 최대공약수는 3, 최소공배수는 12이므로 `gcdlcm(3, 12)`는 `(3, 12)`를 반환해야 합니다. \n",
    "\n",
    "---\n",
    "\n",
    "예시)\n",
    "\n",
    "```python\n",
    "print(gcdlcm(3, 12)) #=> (3, 12)\n",
    "print(gcdlcm(1071, 1029)) #=> (21, 52479)\n",
    "```"
   ]
  },
  {
   "cell_type": "code",
   "execution_count": null,
   "metadata": {},
   "outputs": [],
   "source": [
    "# 아래에 코드를 작성하세요."
   ]
  },
  {
   "cell_type": "code",
   "execution_count": null,
   "metadata": {},
   "outputs": [],
   "source": [
    "def gcdlcm(*args):\n",
    "    for i in args:"
   ]
  },
  {
   "cell_type": "code",
   "execution_count": null,
   "metadata": {},
   "outputs": [],
   "source": [
    "# 망\n",
    "def gcdlcm(a, b):\n",
    "    a_dict = {}\n",
    "    b_dict = {}\n",
    "    result = []\n",
    "#     max_a = []\n",
    "#     max_b = []\n",
    "    for x in range(a+1):\n",
    "        a_list = a_list.append(x)\n",
    "    for y in range(b+1):\n",
    "        b_list = b_list.append(x)\n",
    "    mini_list = a_dict & b_dict\n",
    "            "
   ]
  },
  {
   "cell_type": "code",
   "execution_count": 41,
   "metadata": {},
   "outputs": [],
   "source": [
    "def gcdlcm(*args):\n",
    "    args_list = []\n",
    "    for a in args:\n",
    "        if a != 0:\n",
    "            args_list.append(a)\n",
    "        else:\n",
    "            pass\n",
    "    return args_list"
   ]
  },
  {
   "cell_type": "code",
   "execution_count": 42,
   "metadata": {},
   "outputs": [],
   "source": [
    "# 강사님\n",
    "# 유클리드 호제법(최대공약수)\n",
    "# 최대공약수 * 최소공배수 = 두수의 곱\n",
    "def gcdlcm(a, b):\n",
    "    max_num, min_num = max(a, b), min(a, b)\n",
    "    while min_num > 0:\n",
    "        extra = max_num % min_num\n",
    "        max_num = min_num\n",
    "        min_num = extra\n",
    "    gcd = max_num # gcd => 최대공약수\n",
    "    lcm = (a * b) / gcd\n",
    "    \n",
    "    return (gcd, lcm)"
   ]
  },
  {
   "cell_type": "code",
   "execution_count": 43,
   "metadata": {},
   "outputs": [
    {
     "name": "stdout",
     "output_type": "stream",
     "text": [
      "(3, 12.0)\n",
      "(21, 52479.0)\n"
     ]
    }
   ],
   "source": [
    "# 해당 코드를 통해 올바른 결과가 나오는지 확인하세요.\n",
    "print(gcdlcm(3, 12))\n",
    "print(gcdlcm(1071, 1029))"
   ]
  },
  {
   "cell_type": "markdown",
   "metadata": {},
   "source": [
    "# 불쌍한 달팽이 - 고전 수학문제\n",
    "\n",
    "> 달팽이는 낮 시간 동안에 기둥을 올라갑니다. 하지만 밤에는 잠을 자면서 어느 정도의 거리만큼 미끄러집니다. (낮 시간 동안 올라간 거리보다는 적게 미끄러집니다.)\n",
    "> \n",
    "> 달팽이가 기둥의 꼭대기에 도달하는 날까지 걸리는 시간을 반환하는 함수를 작성하세요.\n",
    "\n",
    "> 함수의 인자는 다음과 같습니다.\n",
    "1. 기둥의 높이(미터)\n",
    "2. 낮 시간 동안 달팽이가 올라가는 거리(미터)\n",
    "3. 달팽이가 야간에 잠을 자는 동안 미끄러지는 거리(미터)\n",
    "\n",
    "---\n",
    "\n",
    "예시)\n",
    "```python\n",
    "snail(100, 5, 2)\n",
    "# => 33\n",
    "```"
   ]
  },
  {
   "cell_type": "code",
   "execution_count": null,
   "metadata": {},
   "outputs": [],
   "source": [
    "# 아래에 코드를 작성하세요."
   ]
  },
  {
   "cell_type": "code",
   "execution_count": 47,
   "metadata": {},
   "outputs": [],
   "source": [
    "def snail(*numbers):\n",
    "    mid = []\n",
    "    for number in numbers:\n",
    "        if number != 0:\n",
    "            mid.append(number)\n",
    "    height = int(mid[0])\n",
    "    climb = int(mid[1])\n",
    "    slide = int(mid[2])\n",
    "    day = 0\n",
    "    result = (climb - slide) * day\n",
    "    while True:\n",
    "        if result + climb >= height:\n",
    "            return day\n",
    "        else:\n",
    "            result = (climb - slide) * day\n",
    "            day += 1"
   ]
  },
  {
   "cell_type": "code",
   "execution_count": 45,
   "metadata": {},
   "outputs": [],
   "source": [
    "# 강사님\n",
    "def snail(meter, am, pm):\n",
    "    day = 1\n",
    "    while True:\n",
    "        meter -= am\n",
    "        if meter <= 0:\n",
    "            return day\n",
    "        meter += pm\n",
    "        day += 1"
   ]
  },
  {
   "cell_type": "code",
   "execution_count": 48,
   "metadata": {},
   "outputs": [
    {
     "name": "stdout",
     "output_type": "stream",
     "text": [
      "33\n"
     ]
    }
   ],
   "source": [
    "# 해당 코드를 통해 올바른 결과가 나오는지 확인하세요.\n",
    "print(snail(100, 5, 2))"
   ]
  },
  {
   "cell_type": "markdown",
   "metadata": {},
   "source": [
    "# 무엇이 중복일까\n",
    "\n",
    "> 다음 리스트에서 중복되는 요소만 뽑아서 새로운 리스트를 반환하는 함수를 작성하세요.\n",
    "\n",
    "---\n",
    "\n",
    "예시)\n",
    "\n",
    "```python\n",
    "duplicated(['a', 'b', 'c', 'b', 'd', 'm', 'n', 'n', 'b'])\n",
    "\n",
    "['b', 'n']\n",
    "```"
   ]
  },
  {
   "cell_type": "code",
   "execution_count": null,
   "metadata": {
    "scrolled": false
   },
   "outputs": [],
   "source": [
    "# 아래에 코드를 작성하세요."
   ]
  },
  {
   "cell_type": "code",
   "execution_count": 3,
   "metadata": {},
   "outputs": [],
   "source": [
    "# 잘못만듬\n",
    "def duplicated(alphas):\n",
    "    result = []\n",
    "    n = 0\n",
    "    final = len(alphas)\n",
    "    for alpha in alphas:\n",
    "        if n == final:\n",
    "            return result\n",
    "        else:\n",
    "            if alphas[n] == alphas[n+1]:\n",
    "                if not alphas[n+1] in result:\n",
    "                    result.append(alphas[n+1])\n",
    "                    n += 1"
   ]
  },
  {
   "cell_type": "code",
   "execution_count": 49,
   "metadata": {},
   "outputs": [],
   "source": [
    "def duplicated(alphas):\n",
    "    mid = []\n",
    "    result = []\n",
    "    for alpha in alphas:\n",
    "        if alpha in result:\n",
    "            pass\n",
    "        elif alpha in mid:\n",
    "            result.append(alpha)\n",
    "        else:\n",
    "            mid.append(alpha)\n",
    "    return result"
   ]
  },
  {
   "cell_type": "code",
   "execution_count": 56,
   "metadata": {},
   "outputs": [],
   "source": [
    "# 강사님꺼\n",
    "def duplicated(chars):\n",
    "    result = []\n",
    "    for char in chars:\n",
    "        if chars.count(char) >= 2 and char not in result:\n",
    "            #중복글자\n",
    "            result.append(char)\n",
    "#    return list(set(result))     이렇게도 됨\n",
    "    return result"
   ]
  },
  {
   "cell_type": "code",
   "execution_count": 57,
   "metadata": {},
   "outputs": [
    {
     "data": {
      "text/plain": [
       "['b', 'n']"
      ]
     },
     "execution_count": 57,
     "metadata": {},
     "output_type": "execute_result"
    }
   ],
   "source": [
    "# 해당 코드를 통해 올바른 결과가 나오는지 확인하세요.\n",
    "duplicated(['a', 'b', 'c', 'b', 'd', 'm', 'n', 'n', 'b'])"
   ]
  },
  {
   "cell_type": "markdown",
   "metadata": {},
   "source": [
    "# 알파벳만 남기고 뒤집기\n",
    "\n",
    "> 문자열이 주어지면, 해당 문자열 중에서 알파벳이 아닌 문자는 전부 빼고 거꾸로 뒤집어 반환하는 함수를 작성하세요.\n",
    "\n",
    "---\n",
    "\n",
    "예시)\n",
    "\n",
    "```python\n",
    "reverse_letter('krishan')\n",
    "'nahsirk'\n",
    "\n",
    "reverse_letter('ultr53o?n')\n",
    "'nortlu'\n",
    "```"
   ]
  },
  {
   "cell_type": "code",
   "execution_count": null,
   "metadata": {},
   "outputs": [],
   "source": [
    "# 아래에 코드를 작성하세요."
   ]
  },
  {
   "cell_type": "code",
   "execution_count": 67,
   "metadata": {},
   "outputs": [],
   "source": [
    "def reverse_letter(langs):\n",
    "    results = []\n",
    "    for lang in langs:\n",
    "        if lang.isalpha() == 1:\n",
    "            results.append(lang)\n",
    "    reverses = []\n",
    "    for result in results:\n",
    "        reverses.insert(0, result)\n",
    "    final = ''\n",
    "    for reverse in reverses:\n",
    "        final += reverse\n",
    "    return final"
   ]
  },
  {
   "cell_type": "code",
   "execution_count": 65,
   "metadata": {},
   "outputs": [],
   "source": [
    "# 강사님\n",
    "def reverse_letter(words):    \n",
    "    result = ''\n",
    "    for word in words:\n",
    "        if word.isalpha():\n",
    "            result += word\n",
    "    return result[::-1] \n",
    "# result.reverse 는 list에서 사용할 수 있다."
   ]
  },
  {
   "cell_type": "code",
   "execution_count": 68,
   "metadata": {},
   "outputs": [
    {
     "name": "stdout",
     "output_type": "stream",
     "text": [
      "nahsirk\n",
      "nortlu\n"
     ]
    }
   ],
   "source": [
    "# 해당 코드를 통해 올바른 결과가 나오는지 확인하세요.\n",
    "print(reverse_letter('krishan'))\n",
    "print(reverse_letter('ultr53o?n'))"
   ]
  },
  {
   "cell_type": "markdown",
   "metadata": {},
   "source": [
    "# 편-안한 단어\n",
    "\n",
    "> (QWERTY 키보드를 사용하여 타이핑 한다고 가정할 때) '편안한 단어'는 타이핑 할 때 **손을 번갈아 칠 수 있는 단어**를 말합니다.\n",
    ">\n",
    "> 단어를 인자로 받아 그것이 '편안한 단어'인지 여부를 True/False로 반환하는 함수를 작성하세요.\n",
    "* 모든 단어는 a ~ z까지 오름차순으로 구성된 문자열입니다.\n",
    "\n",
    "> 문자 목록\n",
    "- 왼손: q, w, e, r, t, a, s, s, d, f, g, z, x, c, v, b\n",
    "- 오른손: y, u, i, o, p, h, j, k, l, n, m"
   ]
  },
  {
   "cell_type": "code",
   "execution_count": null,
   "metadata": {},
   "outputs": [],
   "source": [
    "# 아래에 코드를 작성하세요."
   ]
  },
  {
   "cell_type": "code",
   "execution_count": 86,
   "metadata": {},
   "outputs": [],
   "source": [
    "def comfortable_word(languages):\n",
    "    left_list = ['q', 'w', 'e', 'r', 't', 'a', 's', 'd', 'f', 'g', 'z', 'x', 'c', 'v', 'b']\n",
    "    right_list = ['y', 'u', 'i', 'o', 'p', 'h', 'j', 'k', 'l', 'n', 'm']\n",
    "    result = ''\n",
    "    for language in languages:\n",
    "        if language in left_list:\n",
    "            result += '1'\n",
    "        else:\n",
    "            result += '0'\n",
    "        n = 0\n",
    "        m = len(languages)\n",
    "    while True:\n",
    "        if m != n+1:\n",
    "            if result[n] == result[n+1]:\n",
    "                return False\n",
    "            else:\n",
    "                n += 1\n",
    "        else:\n",
    "#             if result[n] == result[-1]:\n",
    "#                 return False\n",
    "#             else:\n",
    "                return True"
   ]
  },
  {
   "cell_type": "code",
   "execution_count": 89,
   "metadata": {},
   "outputs": [
    {
     "name": "stdout",
     "output_type": "stream",
     "text": [
      "True\n",
      "False\n",
      "True\n",
      "False\n"
     ]
    }
   ],
   "source": [
    "# 해당 코드를 통해 올바른 결과가 나오는지 확인하세요.\n",
    "print(comfortable_word('qywu'))\n",
    "print(comfortable_word('apple'))\n",
    "print(comfortable_word('aksjdifowjekficurkelskdu'))\n",
    "print(comfortable_word('qidjfksleirudifjckfjdksoeiruqq'))"
   ]
  },
  {
   "cell_type": "markdown",
   "metadata": {},
   "source": [
    "# 숫자패턴\n",
    "\n",
    ">원하는 행까지 아래의 패턴을 생성하는 함수를 작성하세요. 만약 인자가 0이나 음의 정수인 경우 빈 문자열(`''`)을 반환하세요.\n",
    "> \n",
    "> 짝수가 인수로 전달되면 패턴은 통과된 짝수보다 작은 최대 홀수까지 계속되어야 합니다.\n",
    "\n",
    "---\n",
    "\n",
    "예시)\n",
    "\n",
    "```python\n",
    "print(pattern(9)):\n",
    "\n",
    "1\n",
    "333\n",
    "55555\n",
    "7777777\n",
    "999999999\n",
    "\n",
    "print(pattern(6))\n",
    "1\n",
    "333\n",
    "55555\n",
    "```\n",
    "**유의) 패턴에 공백은 없습니다.**"
   ]
  },
  {
   "cell_type": "code",
   "execution_count": null,
   "metadata": {},
   "outputs": [],
   "source": [
    "# 아래에 코드를 작성하세요."
   ]
  },
  {
   "cell_type": "code",
   "execution_count": 115,
   "metadata": {},
   "outputs": [],
   "source": [
    "def pattern(num):\n",
    "    result = ''\n",
    "    for i in range(1, num + 1, 2):\n",
    "        n = 0\n",
    "        if i != n:\n",
    "            result += str(i) * i            \n",
    "        n += 1\n",
    "        result += '\\n'\n",
    "    return result"
   ]
  },
  {
   "cell_type": "code",
   "execution_count": 116,
   "metadata": {},
   "outputs": [
    {
     "name": "stdout",
     "output_type": "stream",
     "text": [
      "1\n",
      "333\n",
      "55555\n",
      "7777777\n",
      "999999999\n",
      "\n",
      "1\n",
      "333\n",
      "55555\n",
      "\n"
     ]
    }
   ],
   "source": [
    "# 해당 코드를 통해 올바른 결과가 나오는지 확인하세요.\n",
    "print(pattern(9))\n",
    "print(pattern(6))"
   ]
  },
  {
   "cell_type": "markdown",
   "metadata": {},
   "source": [
    "# 숫자가 좋아\n",
    "\n",
    "> 섞여있는 문자열 속에서 정수만 뽑아내 합을 반환하는 함수 `pick_and_sum(words)`를 작성하세요.\n",
    "\n",
    "---\n",
    "\n",
    "예시)\n",
    "```python\n",
    "pick_and_sum('The30quick20brown10f0x1203jumps914ov3r1349the102l4zy dog') #=> 3635\n",
    "```"
   ]
  },
  {
   "cell_type": "code",
   "execution_count": null,
   "metadata": {},
   "outputs": [],
   "source": [
    "# 아래에 코드를 작성하세요."
   ]
  },
  {
   "cell_type": "code",
   "execution_count": 154,
   "metadata": {},
   "outputs": [],
   "source": [
    "def pick_and_sum(trashes):\n",
    "    leng = len(trashes)\n",
    "    result = 0\n",
    "    for trash in trashes:\n",
    "        if trash.isdecimal():\n",
    "            mid = ''\n",
    "            n = 0\n",
    "            while True:\n",
    "                if n + 1 != leng:\n",
    "                    if trashes[n + 1] == trash.isdecimal():\n",
    "                        mid += str(trash)\n",
    "                        n += 1\n",
    "                    else:\n",
    "                        if trashes[n + 1] == trash.isdecimal():\n",
    "                            mid += str(trash)\n",
    "                            n += 1\n",
    "                else:\n",
    "                    pass\n",
    "        else:\n",
    "            pass\n",
    "        result += int(mid)\n",
    "    return result"
   ]
  },
  {
   "cell_type": "code",
   "execution_count": 197,
   "metadata": {},
   "outputs": [],
   "source": [
    "def pick_and_sum(trashes):\n",
    "    leng = len(trashes)\n",
    "    result = 0\n",
    "    mid = '0'\n",
    "    for trash in trashes:\n",
    "        if trash.isdecimal():\n",
    "            mid += str(trash)\n",
    "#             while True:\n",
    "#                 if trashes == trash.isdecimal():\n",
    "#                     mid += str(trash)\n",
    "#                 else:\n",
    "#                     if trashes == trash.isdecimal():\n",
    "#                         mid += str(trash)\n",
    "        a = int(mid)\n",
    "    result += a\n",
    "    return result - 1"
   ]
  },
  {
   "cell_type": "code",
   "execution_count": 200,
   "metadata": {},
   "outputs": [],
   "source": [
    "# 창완이형\n",
    "def pick_and_sum(alp):\n",
    "    result = ''\n",
    "    for i in alp:\n",
    "        if not i.isdigit():\n",
    "            result += ' '\n",
    "        else:\n",
    "            result += i\n",
    "    K = list(result.split(' '))\n",
    "    total=[]\n",
    "    for j in K:\n",
    "        if j:\n",
    "            total.append(j)\n",
    "    total = map(int,total)\n",
    "    return sum(total)"
   ]
  },
  {
   "cell_type": "code",
   "execution_count": 212,
   "metadata": {},
   "outputs": [],
   "source": [
    "# 용균\n",
    "def pick_and_sum(char):\n",
    "    result = 0\n",
    "    temp = 0\n",
    "    for i in char:\n",
    "        if '0' <= i <= '9':\n",
    "            temp = temp * 10 + int(i)\n",
    "        else:\n",
    "            result = result + temp\n",
    "            temp = 0\n",
    "    return result"
   ]
  },
  {
   "cell_type": "code",
   "execution_count": 210,
   "metadata": {},
   "outputs": [
    {
     "name": "stdout",
     "output_type": "stream",
     "text": [
      "3635\n"
     ]
    }
   ],
   "source": [
    "# 해당 코드를 통해 올바른 결과가 나오는지 확인하세요.\n",
    "print(pick_and_sum('The30quick20brown10f0x1203jumps914ov3r1349the102l4zy dog'))"
   ]
  },
  {
   "cell_type": "markdown",
   "metadata": {},
   "source": [
    "# 월말평가 연습문제 Q1\n",
    "```\n",
    "양수/음수 여부를 판별하여 Boolean 값을 반환하는 q1 함수를 만들어라\n",
    "```"
   ]
  },
  {
   "cell_type": "code",
   "execution_count": 119,
   "metadata": {},
   "outputs": [
    {
     "name": "stdout",
     "output_type": "stream",
     "text": [
      "True\n",
      "False\n"
     ]
    }
   ],
   "source": [
    "def q1(number):\n",
    "    if int(number) > 0:\n",
    "        return True\n",
    "    else:\n",
    "        return False\n",
    "    \n",
    "    \n",
    "print(q1(3))\n",
    "print(q1(-8))"
   ]
  },
  {
   "cell_type": "markdown",
   "metadata": {},
   "source": [
    "# 월말평가 연습문제 Q2\n",
    "```\n",
    "각 자리수의 곱\n",
    "주어진 숫자의 각 자리수의 곱을 반환하는 q2 함수를 작성\n",
    "```"
   ]
  },
  {
   "cell_type": "code",
   "execution_count": 125,
   "metadata": {},
   "outputs": [
    {
     "name": "stdout",
     "output_type": "stream",
     "text": [
      "6\n",
      "0\n",
      "362880\n"
     ]
    }
   ],
   "source": [
    "def q2(number):\n",
    "    a = str(number)\n",
    "    n = 0\n",
    "    m = len(a)\n",
    "    result = 1\n",
    "    for num in a:\n",
    "        if n + 1 == m:\n",
    "            result *= int(number[-1])\n",
    "        else:\n",
    "            result *= int(num)\n",
    "    return result\n",
    "    \n",
    "\n",
    "print(q2(123))\n",
    "print(q2(2020))\n",
    "print(q2(123456789))"
   ]
  },
  {
   "cell_type": "markdown",
   "metadata": {},
   "source": [
    "# 월말평가 연습문제 Q3\n",
    "```\n",
    "과일가게\n",
    "과일가게에 있는 모든 과일과 갯수를 딕셔너리로 반환하는 q3 함수를 만들어라\n",
    "```"
   ]
  },
  {
   "cell_type": "code",
   "execution_count": 136,
   "metadata": {},
   "outputs": [
    {
     "name": "stdout",
     "output_type": "stream",
     "text": [
      "{'apple': 4}\n",
      "{'apple': 1, 'banana': 1}\n",
      "{'apple': 3}\n"
     ]
    }
   ],
   "source": [
    "def q3(fruits, add, n):\n",
    "    result = fruits\n",
    "    if add in result:\n",
    "        result[add] += n\n",
    "    else:\n",
    "        result[add] = n\n",
    "        \n",
    "    return result\n",
    "    \n",
    "    \n",
    "    \n",
    "print(q3({'apple': 1}, 'apple', 3))\n",
    "print(q3({'apple': 1}, 'banana', 1))\n",
    "print(q3({}, 'apple', 3))"
   ]
  },
  {
   "cell_type": "markdown",
   "metadata": {},
   "source": [
    "# 월말평가 연습문제 Q4\n",
    "```\n",
    "주어진 문자열에 s, a, f, y가 들어있는지 여부를 판단하는 q4 함수를 만들어라\n",
    "```"
   ]
  },
  {
   "cell_type": "code",
   "execution_count": 138,
   "metadata": {},
   "outputs": [
    {
     "name": "stdout",
     "output_type": "stream",
     "text": [
      "True\n",
      "False\n",
      "True\n"
     ]
    }
   ],
   "source": [
    "def q4(word):\n",
    "    safy = ['s', 'a', 'f', 'y']\n",
    "    for i in word:\n",
    "        if i in safy:\n",
    "            return True\n",
    "    return False\n",
    "    \n",
    "    \n",
    "    \n",
    "    \n",
    "print(q4('fish'))\n",
    "print(q4('united'))\n",
    "print(q4('galaxy'))"
   ]
  }
 ],
 "metadata": {
  "kernelspec": {
   "display_name": "Python 3",
   "language": "python",
   "name": "python3"
  },
  "language_info": {
   "codemirror_mode": {
    "name": "ipython",
    "version": 3
   },
   "file_extension": ".py",
   "mimetype": "text/x-python",
   "name": "python",
   "nbconvert_exporter": "python",
   "pygments_lexer": "ipython3",
   "version": "3.7.3"
  },
  "latex_envs": {
   "LaTeX_envs_menu_present": true,
   "autoclose": false,
   "autocomplete": true,
   "bibliofile": "biblio.bib",
   "cite_by": "apalike",
   "current_citInitial": 1,
   "eqLabelWithNumbers": true,
   "eqNumInitial": 1,
   "hotkeys": {
    "equation": "Ctrl-E",
    "itemize": "Ctrl-I"
   },
   "labels_anchors": false,
   "latex_user_defs": false,
   "report_style_numbering": false,
   "user_envs_cfg": false
  },
  "toc": {
   "base_numbering": 1,
   "nav_menu": {},
   "number_sections": true,
   "sideBar": true,
   "skip_h1_title": false,
   "title_cell": "Table of Contents",
   "title_sidebar": "Contents",
   "toc_cell": false,
   "toc_position": {},
   "toc_section_display": true,
   "toc_window_display": false
  }
 },
 "nbformat": 4,
 "nbformat_minor": 2
}
