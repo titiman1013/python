{
 "cells": [
  {
   "cell_type": "markdown",
   "metadata": {},
   "source": [
    "# 제어문\n",
    "\n",
    "지금까지의 코드는 위에서부터 아래로 순차적으로 명령을 수행하는 프로그램을 작성하였습니다. \n",
    "\n",
    "제어문(Control of Flow)은 크게 반복문과 조건문으로 나눌 수 있고, 이는 순서도(Flow chart)로 표현이 가능합니다.\n"
   ]
  },
  {
   "cell_type": "markdown",
   "metadata": {},
   "source": [
    "<center> \n",
    "    <img src=\"https://user-images.githubusercontent.com/18046097/61180553-25e87b00-a653-11e9-9895-7976d7204734.png\", alt='if flowchart'/>\n",
    "</center>"
   ]
  },
  {
   "cell_type": "code",
   "execution_count": null,
   "metadata": {},
   "outputs": [],
   "source": [
    "# 위의 flow chart를 조건문을 통해 만들어봅시다."
   ]
  },
  {
   "cell_type": "code",
   "execution_count": null,
   "metadata": {},
   "outputs": [],
   "source": [
    "a = 5\n",
    "if a > 5:\n",
    "    print(\"5 초과\")\n",
    "else:\n",
    "    print(\"5 이하\")"
   ]
  },
  {
   "cell_type": "markdown",
   "metadata": {},
   "source": [
    "## 조건문\n",
    "\n",
    "1. `if` 문은 반드시 일정한 참/거짓을 판단할 수 있는 `조건식`과 함께 사용이 되어야한다.\n",
    "`if <조건식>:`\n",
    "\n",
    "1-1. `<조건식>`이 참인 경우 `:` 이후의 문장을 수행한다.\n",
    "\n",
    "1-2. `<조건식>`이 거짓인 경우 `else:` 이후의 문장을 수행한다.\n",
    "\n",
    "1-3. 여러 개의 `elif` 부가 있을 수 있고(없거나), `else`는 선택적이다.\n",
    "\n",
    "* 이때 반드시 **들여쓰기를** 유의해야한다. \n",
    "파이썬에서는 코드 블록을 자바나 C언어의 `{}`와 달리 `들여쓰기`로 판단하기 때문이다.\n",
    "* 앞으로 우리는 `PEP-8`에서 권장하는 `4spaces`를 사용할 것이다.\n"
   ]
  },
  {
   "cell_type": "markdown",
   "metadata": {},
   "source": [
    "<center>\n",
    "    <img src=\"https://user-images.githubusercontent.com/18046097/61180564-3a2c7800-a653-11e9-9fba-d60d2688ed3a.png\", alt=\"if style\"/>\n",
    "</center>"
   ]
  },
  {
   "cell_type": "markdown",
   "metadata": {},
   "source": [
    "<center><strong style=\"font-size: 30px;\">우리는 4spaces를 맞춰서 씁니다!</strong></center>\n",
    "<br>\n",
    "\n",
    "<center>\n",
    "    <img src=\"https://user-images.githubusercontent.com/18046097/61180566-3ac50e80-a653-11e9-81a6-2f195eeb0a65.png\", alt=\"[space vs tab]\"/>\n",
    "</center>    \n",
    "\n",
    "\n",
    "\n",
    "\n",
    "[출처 : 400,000 GitHub repositories, 1 billion files, 14 terabytes of code: Spaces or Tabs?](https://medium.com/@hoffa/400-000-github-repositories-1-billion-files-14-terabytes-of-code-spaces-or-tabs-7cfe0b5dd7fd)\n"
   ]
  },
  {
   "cell_type": "markdown",
   "metadata": {},
   "source": [
    "### 조건문 연습\n",
    "> 조건문을 통해 사용자가 입력한 날짜가 크리스마스인지 확인하세요.\n",
    "\n",
    "---\n",
    "\n",
    "```\n",
    "예시 출력)\n",
    "12/25\n",
    "크리스마스입니다.\n",
    "```\n"
   ]
  },
  {
   "cell_type": "code",
   "execution_count": null,
   "metadata": {},
   "outputs": [],
   "source": [
    "is_christmas = input('날짜를 입력해주세요 ex)12/24 : ')\n",
    "\n",
    "# 아래에 코드를 작성하세요"
   ]
  },
  {
   "cell_type": "code",
   "execution_count": null,
   "metadata": {},
   "outputs": [],
   "source": [
    "if is_christmas == '12/25':\n",
    "    print('크리스마스입니다.')\n",
    "else:\n",
    "    print('크리스마스가 아닙니다.')"
   ]
  },
  {
   "cell_type": "markdown",
   "metadata": {},
   "source": [
    "### 조건문 활용\n",
    "\n",
    "\n",
    "> 조건문을 통해 변수 num의 값과 홀수/짝수 여부를 출력하세요.\n",
    "\n",
    "---\n",
    "\n",
    "```\n",
    "예시 출력)\n",
    "3\n",
    "홀수입니다.\n",
    "```"
   ]
  },
  {
   "cell_type": "code",
   "execution_count": 157,
   "metadata": {},
   "outputs": [
    {
     "name": "stdout",
     "output_type": "stream",
     "text": [
      "숫자를 입력하세요 : 4\n"
     ]
    }
   ],
   "source": [
    "num = int(input('숫자를 입력하세요 : '))\n",
    "\n",
    "# 아래에 코드를 작성하세요"
   ]
  },
  {
   "cell_type": "code",
   "execution_count": 158,
   "metadata": {},
   "outputs": [
    {
     "name": "stdout",
     "output_type": "stream",
     "text": [
      "짝수입니다.\n"
     ]
    }
   ],
   "source": [
    "if num % 2 == 1:\n",
    "    print('홀수입니다.')\n",
    "else:\n",
    "    print('짝수입니다.')"
   ]
  },
  {
   "cell_type": "code",
   "execution_count": 159,
   "metadata": {},
   "outputs": [
    {
     "name": "stdout",
     "output_type": "stream",
     "text": [
      "짝수입니다.\n"
     ]
    }
   ],
   "source": [
    "if num % 2 == 0:\n",
    "    print('짝수입니다.')\n",
    "else:\n",
    "    print('홀수입니다.')"
   ]
  },
  {
   "cell_type": "markdown",
   "metadata": {},
   "source": [
    "## 복수 조건문\n",
    "\n",
    "2개 이상의 조건문을 활용할 경우 `elif <조건식>:`을 활용합니다.\n",
    "<center>\n",
    "<img src=\"https://user-images.githubusercontent.com/18046097/61180560-3993e180-a653-11e9-8263-79bd7bc6eed7.png\", alt=\"elif\">\n",
    "</center>"
   ]
  },
  {
   "cell_type": "markdown",
   "metadata": {},
   "source": [
    "### 복수조건문 활용\n",
    "\n",
    "> 조건문을 통해 변수 score에 따른 평점을 출력하세요.\n",
    "\n",
    "|점수|등급|\n",
    "|---|---|\n",
    "|90점 이상|A|\n",
    "|80점 이상|B|\n",
    "|70점 이상|C|\n",
    "|60점 이상|D|\n",
    "|60점 미만|F|\n",
    "\n",
    "--- \n",
    "\n",
    "```\n",
    "예시 출력)\n",
    "B\n",
    "```"
   ]
  },
  {
   "cell_type": "code",
   "execution_count": 161,
   "metadata": {},
   "outputs": [
    {
     "name": "stdout",
     "output_type": "stream",
     "text": [
      "점수를 입력하세요 : 96\n"
     ]
    }
   ],
   "source": [
    "score = int(input('점수를 입력하세요 : '))\n",
    "\n",
    "# 아래에 코드를 작성하세요"
   ]
  },
  {
   "cell_type": "code",
   "execution_count": 162,
   "metadata": {},
   "outputs": [
    {
     "name": "stdout",
     "output_type": "stream",
     "text": [
      "A\n"
     ]
    }
   ],
   "source": [
    "if 90 <= score:\n",
    "    print('A')\n",
    "elif 80 <= score < 90:\n",
    "    print('B')\n",
    "elif 70 <= score < 80:\n",
    "    print('C')\n",
    "elif 60 <= score < 70:\n",
    "    print('D')\n",
    "else:\n",
    "    print('F')"
   ]
  },
  {
   "cell_type": "code",
   "execution_count": 163,
   "metadata": {},
   "outputs": [
    {
     "name": "stdout",
     "output_type": "stream",
     "text": [
      "A\n"
     ]
    }
   ],
   "source": [
    "if score >= 90:\n",
    "    print('A')\n",
    "elif score >= 80:\n",
    "    print('B')\n",
    "elif score >= 70:\n",
    "    print('C')\n",
    "elif score >= 60:\n",
    "    print('D')\n",
    "else:\n",
    "    print('F')"
   ]
  },
  {
   "cell_type": "markdown",
   "metadata": {},
   "source": [
    "### 중첩조건문 활용\n",
    "\n",
    "> 위 실습문제 2개 코드를 활용하여 \n",
    "95점 이상이면, \"참 잘했어요\"도 함께 출력해주세요.\n",
    "\n",
    "--- \n",
    "\n",
    "```\n",
    "예시 출력)\n",
    "A\n",
    "참잘했어요.\n",
    "```"
   ]
  },
  {
   "cell_type": "code",
   "execution_count": 2,
   "metadata": {},
   "outputs": [],
   "source": [
    "score = 96\n",
    "\n",
    "# 아래에 코드를 작성하세요"
   ]
  },
  {
   "cell_type": "code",
   "execution_count": 3,
   "metadata": {},
   "outputs": [
    {
     "name": "stdout",
     "output_type": "stream",
     "text": [
      "A\n",
      "5959내새끼\n"
     ]
    }
   ],
   "source": [
    "if score >= 90:\n",
    "    print('A')\n",
    "    if score >= 95:\n",
    "        print('5959내새끼')\n",
    "elif score >= 80:\n",
    "    print('B')\n",
    "elif score >= 70:\n",
    "    print('C')\n",
    "elif score >= 60:\n",
    "    print('D')\n",
    "else:\n",
    "    print('F')"
   ]
  },
  {
   "cell_type": "markdown",
   "metadata": {},
   "source": [
    "## 조건 표현식(Conditional Expression)\n",
    "\n",
    "표현식은 보통 조건에 따라 값을 정할 때 많이 활용됩니다.\n",
    "\n",
    "---\n",
    "\n",
    "**활용법**\n",
    "\n",
    "```python\n",
    "true_value if <조건식> else false_value\n",
    "```"
   ]
  },
  {
   "cell_type": "code",
   "execution_count": null,
   "metadata": {},
   "outputs": [],
   "source": [
    "num = int(input('숫자를 입력하세요 : '))\n",
    "\n",
    "print('0 보다 큼') if num > 0 else print('0 보다 크지않음')"
   ]
  },
  {
   "cell_type": "code",
   "execution_count": null,
   "metadata": {},
   "outputs": [],
   "source": [
    "# 아래의 코드는 무엇을 위한 코드일까요?\n",
    "num = int(input('숫자를 입력하세요 : '))\n",
    "value = num if num >= 0 else 0\n",
    "print(value)\n",
    "\n",
    "# 아래에 답변을 작성하세요."
   ]
  },
  {
   "cell_type": "code",
   "execution_count": null,
   "metadata": {},
   "outputs": [],
   "source": [
    "# "
   ]
  },
  {
   "cell_type": "markdown",
   "metadata": {},
   "source": [
    "### 조건표현식과 동일한 `if`문 작성하기\n",
    "\n",
    "> 다음의 코드와 동일한 `if`문을 작성해보세요.\n",
    "\n",
    "```python\n",
    "num = -5\n",
    "value = num if num >= 0 else 0\n",
    "print(value)\n",
    "```\n",
    "---\n",
    "\n",
    "```\n",
    "예시 출력)\n",
    "0\n",
    "```"
   ]
  },
  {
   "cell_type": "code",
   "execution_count": null,
   "metadata": {},
   "outputs": [],
   "source": [
    "# 아래에 코드를 작성하세요."
   ]
  },
  {
   "cell_type": "code",
   "execution_count": null,
   "metadata": {},
   "outputs": [],
   "source": [
    "num = int(input())\n",
    "if num >= 0:\n",
    "    print(num)\n",
    "else:\n",
    "    print('0')"
   ]
  },
  {
   "cell_type": "markdown",
   "metadata": {},
   "source": [
    "### 조건표현식 만들어보기\n",
    "\n",
    "> 다음의 코드와 동일한 조건 표현식을 작성해보세요.\n",
    "\n",
    "```python\n",
    "num = 2\n",
    "if num % 2:\n",
    "    result = '홀수입니다.'\n",
    "else:\n",
    "    result = '짝수입니다.'\n",
    "print(result)\n",
    "```\n",
    "---\n",
    "```\n",
    "예시 출력)\n",
    "짝수입니다.\n",
    "```"
   ]
  },
  {
   "cell_type": "code",
   "execution_count": null,
   "metadata": {},
   "outputs": [],
   "source": [
    "# 아래에 코드를 작성하세요."
   ]
  },
  {
   "cell_type": "code",
   "execution_count": null,
   "metadata": {},
   "outputs": [],
   "source": [
    "num = 2\n",
    "result = '홀수입니다.' if num % 2 else '짝수입니다.'\n",
    "print(result)"
   ]
  },
  {
   "cell_type": "markdown",
   "metadata": {},
   "source": [
    "# 반복문\n",
    "\n",
    "## `while` 문\n",
    "\n",
    "`while` 문은 조건식이 참(True)인 경우 반복적으로 코드를 실행합니다.\n",
    "\n",
    "**그래서 종료조건을 반드시 설정해주어야 합니다.**\n",
    "\n",
    "<br>\n",
    "<br>\n",
    "<center> \n",
    "    <img src=\"https://user-images.githubusercontent.com/18046097/61180568-3ac50e80-a653-11e9-9960-ba15137290a6.png\", alt=\"while\"/>\n",
    "</center>"
   ]
  },
  {
   "cell_type": "code",
   "execution_count": null,
   "metadata": {},
   "outputs": [],
   "source": [
    "# 위의 flow chart를 조건문을 통해 만들어봅시다.\n",
    "# 아래에 코드를 작성하세요."
   ]
  },
  {
   "cell_type": "code",
   "execution_count": 4,
   "metadata": {},
   "outputs": [
    {
     "name": "stdout",
     "output_type": "stream",
     "text": [
      "0\n",
      "1\n",
      "2\n",
      "3\n",
      "4\n",
      "끝\n"
     ]
    }
   ],
   "source": [
    "a = 0\n",
    "while a < 5:\n",
    "    print(a)\n",
    "    a = a + 1 # == a += 1\n",
    "print('끝')"
   ]
  },
  {
   "cell_type": "markdown",
   "metadata": {},
   "source": [
    "<center>\n",
    "    <img src=\"https://user-images.githubusercontent.com/18046097/61180567-3ac50e80-a653-11e9-9f12-39c404f4be30.png\", alt=\"\">\n",
    "</center>\n",
    "\n",
    "`while` 문 역시 `<조건식>` 이후에 `:`이 반드시 필요하며, \n",
    "\n",
    "이후 오는 코드 블록은 `4spaces`로 **들여쓰기**를 해주셔야 합니다."
   ]
  },
  {
   "cell_type": "markdown",
   "metadata": {},
   "source": [
    "### `while`문 작성하기\n",
    "> 사용자가 \"안녕\"이라고 입력할 때까지 인사하는 코드를 작성해보세요."
   ]
  },
  {
   "cell_type": "code",
   "execution_count": 1,
   "metadata": {},
   "outputs": [],
   "source": [
    "# 아래에 코드를 작성하세요."
   ]
  },
  {
   "cell_type": "code",
   "execution_count": 5,
   "metadata": {},
   "outputs": [
    {
     "name": "stdout",
     "output_type": "stream",
     "text": [
      "3\n",
      "안녕하세요\n",
      "2\n",
      "안녕하세요\n",
      "1\n",
      "안녕하세요\n"
     ]
    }
   ],
   "source": [
    "a = 123\n",
    "while a is not 1:\n",
    "    a = int(input())\n",
    "    print('안녕하세요')"
   ]
  },
  {
   "cell_type": "code",
   "execution_count": 1,
   "metadata": {},
   "outputs": [
    {
     "name": "stdout",
     "output_type": "stream",
     "text": [
      "아이\n",
      "안녕하세요\n",
      "안녕\n"
     ]
    }
   ],
   "source": [
    "while input() != '안녕':\n",
    "    print('안녕하세요')"
   ]
  },
  {
   "cell_type": "code",
   "execution_count": 6,
   "metadata": {},
   "outputs": [
    {
     "name": "stdout",
     "output_type": "stream",
     "text": [
      "안녕이라고 말하지마 : tlfgjf\n",
      "안녕이라고 말하지마 : 싫어\n",
      "안녕이라고 말하지마 : 안녕\n"
     ]
    }
   ],
   "source": [
    "a = '임시'\n",
    "while a != '안녕':\n",
    "    a = input('안녕이라고 말하지마 : ')\n",
    "    "
   ]
  },
  {
   "cell_type": "markdown",
   "metadata": {},
   "source": [
    "## `for` 문\n",
    "\n",
    "`for` 문은 정해진 범위 내 시퀀스(문자열, 튜플, 리스트 같은)나 다른 반복가능한 객체(iterable)의 요소들을 순차적으로 코드를 실행합니다.\n",
    "\n",
    "---\n",
    "\n",
    "**활용법**\n",
    "\n",
    "```python\n",
    "for element in iterable:\n",
    "    code line1\n",
    "    code line2\n",
    "```"
   ]
  },
  {
   "cell_type": "markdown",
   "metadata": {},
   "source": [
    "<center>\n",
    "    <img src=\"https://user-images.githubusercontent.com/18046097/61180565-3a2c7800-a653-11e9-806a-28838248de31.png\", alt=\"\">\n",
    "</center>"
   ]
  },
  {
   "cell_type": "code",
   "execution_count": null,
   "metadata": {},
   "outputs": [],
   "source": [
    "# flowchart를 for문을 통해 코드로 작성해봅시다.\n",
    "# 아래에 코드를 작성하세요."
   ]
  },
  {
   "cell_type": "code",
   "execution_count": 7,
   "metadata": {},
   "outputs": [
    {
     "name": "stdout",
     "output_type": "stream",
     "text": [
      "0\n",
      "1\n",
      "2\n",
      "3\n",
      "4\n",
      "끝\n"
     ]
    }
   ],
   "source": [
    "for i in range(5):\n",
    "    print(i)\n",
    "print('끝')"
   ]
  },
  {
   "cell_type": "markdown",
   "metadata": {},
   "source": [
    "![for animation](https://user-images.githubusercontent.com/18046097/61180563-3a2c7800-a653-11e9-8a7a-c7d6e6b30141.gif)"
   ]
  },
  {
   "cell_type": "markdown",
   "metadata": {},
   "source": [
    "for 문에서 요소 값에 다른 값을 할당해도 다음 반복구문에 영향을 주지 않습니다.\n",
    "\n",
    "다음 range 요소 값에 의해 덮어 씌워지기 때문입니다."
   ]
  },
  {
   "cell_type": "code",
   "execution_count": 10,
   "metadata": {},
   "outputs": [
    {
     "name": "stdout",
     "output_type": "stream",
     "text": [
      "0\n",
      "1\n",
      "2\n",
      "3\n",
      "4\n"
     ]
    }
   ],
   "source": [
    "for asdf in range(5):\n",
    "    print(asdf)\n",
    "    asdf = 2"
   ]
  },
  {
   "cell_type": "markdown",
   "metadata": {},
   "source": [
    "### `for` 문 연습\n",
    "> for 문을 활용하여 사용자가 입력한 문자를 한글자씩 출력해보세요.\n",
    "\n",
    "---\n",
    "\n",
    "```\n",
    "예시 출력)\n",
    "문자를 입력하세요 : 안녕!\n",
    "안\n",
    "녕\n",
    "!\n",
    "```\n"
   ]
  },
  {
   "cell_type": "code",
   "execution_count": 11,
   "metadata": {},
   "outputs": [
    {
     "name": "stdout",
     "output_type": "stream",
     "text": [
      "문자를 입력하세요 : ㅎㅇㅎㅇ\n"
     ]
    }
   ],
   "source": [
    "chars = input('문자를 입력하세요 : ')\n",
    "\n",
    "# 아래에 코드를 작성하세요."
   ]
  },
  {
   "cell_type": "code",
   "execution_count": 12,
   "metadata": {},
   "outputs": [
    {
     "name": "stdout",
     "output_type": "stream",
     "text": [
      "ㅎ\n",
      "ㅇ\n",
      "ㅎ\n",
      "ㅇ\n"
     ]
    }
   ],
   "source": [
    "for i in chars:\n",
    "    print(i)"
   ]
  },
  {
   "cell_type": "code",
   "execution_count": 14,
   "metadata": {},
   "outputs": [
    {
     "name": "stdout",
     "output_type": "stream",
     "text": [
      "안녕\n"
     ]
    }
   ],
   "source": [
    "hi = '안녕하세요'\n",
    "i = 0\n",
    "\n",
    "print(a)"
   ]
  },
  {
   "cell_type": "markdown",
   "metadata": {},
   "source": [
    "###  `for` 문과 `if` 문 작성하기\n",
    "\n",
    "> 반복문과 조건문만 활용하여 1~30까지 숫자 중에 홀수만 담긴 리스트를 만드세요.\n",
    "- list에서 값 추가는 `.append()`로 합니다.\n",
    "\n",
    "---\n",
    "```\n",
    "예시 출력)\n",
    "[1, 3, 5, 7, 9, 11, 13, 15, 17, 19, 21, 23, 25, 27, 29]\n",
    "```"
   ]
  },
  {
   "cell_type": "code",
   "execution_count": null,
   "metadata": {},
   "outputs": [],
   "source": [
    "# 아래에 코드를 작성하세요."
   ]
  },
  {
   "cell_type": "code",
   "execution_count": 15,
   "metadata": {},
   "outputs": [
    {
     "name": "stdout",
     "output_type": "stream",
     "text": [
      "[1, 3, 5, 7, 9, 11, 13, 15, 17, 19, 21, 23, 25, 27, 29]\n"
     ]
    }
   ],
   "source": [
    "h = []\n",
    "for a in range(30): # 원래는 31로 해야 맞음\n",
    "    if a % 2 == 1:\n",
    "        h.append(a)\n",
    "print(h)"
   ]
  },
  {
   "cell_type": "code",
   "execution_count": 16,
   "metadata": {},
   "outputs": [
    {
     "name": "stdout",
     "output_type": "stream",
     "text": [
      "[0, 1, 2, 3, 4, 5, 6, 7, 8, 9, 10, 11, 12, 13, 14, 15, 16, 17, 18, 19, 20, 21, 22, 23, 24, 25, 26, 27, 28, 29]\n"
     ]
    }
   ],
   "source": [
    "a = list(range(30))\n",
    "print(a)"
   ]
  },
  {
   "cell_type": "code",
   "execution_count": 17,
   "metadata": {},
   "outputs": [
    {
     "ename": "SyntaxError",
     "evalue": "invalid syntax (<ipython-input-17-4e9358e5cae9>, line 2)",
     "output_type": "error",
     "traceback": [
      "\u001b[1;36m  File \u001b[1;32m\"<ipython-input-17-4e9358e5cae9>\"\u001b[1;36m, line \u001b[1;32m2\u001b[0m\n\u001b[1;33m    for\u001b[0m\n\u001b[1;37m        ^\u001b[0m\n\u001b[1;31mSyntaxError\u001b[0m\u001b[1;31m:\u001b[0m invalid syntax\n"
     ]
    }
   ],
   "source": [
    "odd_numbers = []\n",
    "for "
   ]
  },
  {
   "cell_type": "markdown",
   "metadata": {},
   "source": [
    "### index와 함께 `for` 문 활용\n",
    "\n",
    "> `enumerate()`를 활용하면, 추가적인 변수를 활용할 수 있습니다.\n",
    "- `enumerate()`는 [파이썬 표준 라이브러리의 내장함수](https://docs.python.org/ko/3.6/library/functions.html) 중 하나이며, 다음과 같이 구성되어 있다.\n",
    ">\n",
    "> <center>\n",
    "    <img src=\"https://user-images.githubusercontent.com/18046097/61180561-3993e180-a653-11e9-9558-085c9a0ad65d.png\", alt=\"enumerate\">\n",
    "</center>"
   ]
  },
  {
   "cell_type": "code",
   "execution_count": 9,
   "metadata": {},
   "outputs": [],
   "source": [
    "# enumerate()를 활용해서 출력해봅시다.\n",
    "lunch = ['짜장면', '초밥']"
   ]
  },
  {
   "cell_type": "code",
   "execution_count": 13,
   "metadata": {},
   "outputs": [
    {
     "name": "stdout",
     "output_type": "stream",
     "text": [
      "0 짜장면\n",
      "1 초밥\n"
     ]
    }
   ],
   "source": [
    "for index, menu in enumerate(lunch):\n",
    "    print(index, menu)"
   ]
  },
  {
   "cell_type": "code",
   "execution_count": null,
   "metadata": {},
   "outputs": [],
   "source": [
    "# enumerate()를 사용하였을 때 어떻게 표현이 되는지 확인해봅시다."
   ]
  },
  {
   "cell_type": "code",
   "execution_count": 21,
   "metadata": {},
   "outputs": [
    {
     "name": "stdout",
     "output_type": "stream",
     "text": [
      "[(0, 'kim'), (1, 'lee'), (2, 'park')]\n"
     ]
    }
   ],
   "source": [
    "last_name = ['kim', 'lee', 'park']\n",
    "e_last_name = list(enumerate(last_name))\n",
    "print(e_last_name)"
   ]
  },
  {
   "cell_type": "code",
   "execution_count": null,
   "metadata": {},
   "outputs": [],
   "source": [
    "# 숫자를 1부터 카운트 할 수도 있습니다."
   ]
  },
  {
   "cell_type": "code",
   "execution_count": 17,
   "metadata": {},
   "outputs": [
    {
     "name": "stdout",
     "output_type": "stream",
     "text": [
      "1 짜장면\n",
      "2 초밥\n"
     ]
    }
   ],
   "source": [
    "for index, menu in enumerate(lunch, start=1):\n",
    "    print(index, menu)"
   ]
  },
  {
   "cell_type": "code",
   "execution_count": 19,
   "metadata": {},
   "outputs": [
    {
     "data": {
      "text/plain": [
       "['짜장면', '초밥']"
      ]
     },
     "execution_count": 19,
     "metadata": {},
     "output_type": "execute_result"
    }
   ],
   "source": [
    "list(lunch)"
   ]
  },
  {
   "cell_type": "code",
   "execution_count": 18,
   "metadata": {
    "scrolled": true
   },
   "outputs": [
    {
     "data": {
      "text/plain": [
       "[(1, '짜장면'), (2, '초밥')]"
      ]
     },
     "execution_count": 18,
     "metadata": {},
     "output_type": "execute_result"
    }
   ],
   "source": [
    "list(enumerate(lunch, start=1))"
   ]
  },
  {
   "cell_type": "markdown",
   "metadata": {},
   "source": [
    "### dictionary 반복문 활용\n",
    "\n",
    "기본적으로 dictionary를 `for` 문을 시행시키면 다음과 같이 시행됩니다."
   ]
  },
  {
   "cell_type": "code",
   "execution_count": null,
   "metadata": {},
   "outputs": [],
   "source": [
    "# 옆자리 친구의 이름을 활용하여 dictionary를 만들어봅시다."
   ]
  },
  {
   "cell_type": "code",
   "execution_count": 166,
   "metadata": {},
   "outputs": [
    {
     "name": "stdout",
     "output_type": "stream",
     "text": [
      "teacher\n",
      "student1\n",
      "student2\n"
     ]
    }
   ],
   "source": [
    "gj3c = {\n",
    "    'teacher': 'change',\n",
    "    'student1': 'donghoon',\n",
    "    'student2': 'byeoungkuk',\n",
    "    }\n",
    "for member in gj3c:\n",
    "    print(member)\n",
    "# key만 출력된 값이 나옴"
   ]
  },
  {
   "cell_type": "code",
   "execution_count": 22,
   "metadata": {},
   "outputs": [
    {
     "name": "stdout",
     "output_type": "stream",
     "text": [
      "teacher\n",
      "change\n",
      "student1\n",
      "donghoon\n",
      "student2\n",
      "byeoungkuk\n"
     ]
    }
   ],
   "source": [
    "gj3c = {\n",
    "    'teacher': 'change',\n",
    "    'student1': 'donghoon',\n",
    "    'student2': 'byeoungkuk',\n",
    "    }\n",
    "for member in gj3c:\n",
    "    print(member)\n",
    "    print(gj3c[member])\n",
    "# key와 value값 모두 출력"
   ]
  },
  {
   "cell_type": "markdown",
   "metadata": {},
   "source": [
    "dictionary의 `key`를 출력함으로써 `value`에도 접근할 수 있기 때문입니다.\n",
    "\n",
    "따라서 dictionary의 value를 출력하기 위해서는 아래와 같이 작성합니다."
   ]
  },
  {
   "cell_type": "code",
   "execution_count": null,
   "metadata": {},
   "outputs": [],
   "source": [
    "# value를 출력해봅시다."
   ]
  },
  {
   "cell_type": "code",
   "execution_count": 28,
   "metadata": {},
   "outputs": [
    {
     "name": "stdout",
     "output_type": "stream",
     "text": [
      "change\n",
      "donghoon\n",
      "byeoungkuk\n"
     ]
    }
   ],
   "source": [
    "for member in gj3c:\n",
    "    print(gj3c[member])\n",
    "# value값만 출력"
   ]
  },
  {
   "cell_type": "markdown",
   "metadata": {},
   "source": [
    "* dictionary에서 `for` 활용하는 4가지 방법\n",
    "\n",
    "```python\n",
    "# 0. dictionary (key 반복)\n",
    "for key in dict:\n",
    "    print(key)\n",
    "\n",
    "\n",
    "# 1. key 반복\n",
    "for key in dict.keys():\n",
    "    print(key)\n",
    "    \n",
    "    \n",
    "# 2. value 반복    \n",
    "for val in dict.values():\n",
    "    print(val)\n",
    "\n",
    "    \n",
    "# 3. key와 value 반복\n",
    "for key, val in dict.items():\n",
    "    print(key, val)\n",
    "\n",
    "```"
   ]
  },
  {
   "cell_type": "markdown",
   "metadata": {},
   "source": [
    "### dictionary `for`문 작성하기\n",
    "\n",
    "> 4가지 반복문을 활용해보고 출력되는 결과를 확인해보세요.\n",
    "\n",
    "```\n",
    "blood_type = {'A': 4, 'B': 2, 'AB': 3, 'O':1}\n",
    "```\n",
    "\n",
    "---\n",
    "\n",
    "```\n",
    "예시 출력)\n",
    "혈액형의 종류는 다음과 같습니다 =>  A B AB O\n",
    "혈액형의 종류는 다음과 같습니다 =>  A B AB O\n",
    "총인원은 10명입니다.\n",
    "A형은 4명입니다. ... O형은 1명입니다.\n",
    "```"
   ]
  },
  {
   "cell_type": "code",
   "execution_count": 29,
   "metadata": {},
   "outputs": [],
   "source": [
    "blood_type = {'A': 4, 'B': 2, 'AB': 3, 'O':1}\n",
    "\n",
    "# 아래에 코드를 작성하세요."
   ]
  },
  {
   "cell_type": "code",
   "execution_count": 42,
   "metadata": {},
   "outputs": [
    {
     "name": "stdout",
     "output_type": "stream",
     "text": [
      "혈액형의 종류는 다음과 같습니다 =>  A B AB O "
     ]
    }
   ],
   "source": [
    "print('혈액형의 종류는 다음과 같습니다 =>  ',end='')\n",
    "for bt in blood_type:\n",
    "    print(bt,end=' ')"
   ]
  },
  {
   "cell_type": "code",
   "execution_count": 47,
   "metadata": {},
   "outputs": [
    {
     "name": "stdout",
     "output_type": "stream",
     "text": [
      "혈액형의 종류는 다음과 같습니다 =>  A B AB O "
     ]
    }
   ],
   "source": [
    "for bt in blood_type:\n",
    "    if bt == 'A':\n",
    "        print('혈액형의 종류는 다음과 같습니다 =>  ' + bt,end=' ')\n",
    "    else:\n",
    "        print(bt,end=' ')\n",
    "# 아.. 창조노동"
   ]
  },
  {
   "cell_type": "code",
   "execution_count": 30,
   "metadata": {},
   "outputs": [
    {
     "name": "stdout",
     "output_type": "stream",
     "text": [
      "혈액형의 종류는 다음과 같습니다 =>  A B AB O \n"
     ]
    }
   ],
   "source": [
    "result = '혈액형의 종류는 다음과 같습니다 =>  '\n",
    "for blood in blood_type:\n",
    "    result = result + blood + ' '\n",
    "print(result)\n",
    "# Best"
   ]
  },
  {
   "cell_type": "code",
   "execution_count": 33,
   "metadata": {},
   "outputs": [
    {
     "name": "stdout",
     "output_type": "stream",
     "text": [
      "혈액형의 종류는 다음과 같습니다 =>  A B AB O \n"
     ]
    }
   ],
   "source": [
    "result = '혈액형의 종류는 다음과 같습니다 =>  '\n",
    "for blood in blood_type.keys():\n",
    "    result = result + blood + ' '\n",
    "print(result)"
   ]
  },
  {
   "cell_type": "code",
   "execution_count": 64,
   "metadata": {},
   "outputs": [
    {
     "name": "stdout",
     "output_type": "stream",
     "text": [
      "총인원은 10명입니다.\n"
     ]
    }
   ],
   "source": [
    "num = 0\n",
    "for ap in blood_type.values():\n",
    "    num += ap\n",
    "print('총인원은 %d명입니다.' %num)"
   ]
  },
  {
   "cell_type": "code",
   "execution_count": 144,
   "metadata": {},
   "outputs": [
    {
     "name": "stdout",
     "output_type": "stream",
     "text": [
      "총 인원은 10명입니다.\n"
     ]
    }
   ],
   "source": [
    "result = 0\n",
    "for member in blood_type.values():\n",
    "    result = result + member\n",
    "print(f'총 인원은 {result}명입니다.')"
   ]
  },
  {
   "cell_type": "code",
   "execution_count": 141,
   "metadata": {
    "scrolled": false
   },
   "outputs": [
    {
     "name": "stdout",
     "output_type": "stream",
     "text": [
      "A형은 4명입니다. B형은 2명입니다. AB형은 3명입니다. O형은 1명입니다. \n"
     ]
    }
   ],
   "source": [
    "hey = ''\n",
    "for key,val in blood_type.items():\n",
    "    hey = hey + f'{key}형은 {val}명입니다. '\n",
    "print(hey)"
   ]
  },
  {
   "cell_type": "code",
   "execution_count": 69,
   "metadata": {},
   "outputs": [
    {
     "name": "stdout",
     "output_type": "stream",
     "text": [
      "A형은 4입니다. B형은 2입니다. AB형은 3입니다. O형은 1입니다. "
     ]
    }
   ],
   "source": [
    "for key, val in blood_type.items():\n",
    "    print(f'{key}형은 {val}입니다.', end=' ')"
   ]
  },
  {
   "cell_type": "markdown",
   "metadata": {},
   "source": [
    "### dictionary 구축하기 (`for`, `if`)\n",
    "> 다음과 같은 리스트가 있을 때 각각의 요소의 개수를 value 값으로 갖는 딕셔너리를 만드세요.\n",
    "> ```python\n",
    "book_title =  ['great', 'expectations', 'the', 'adventures', 'of', 'sherlock', 'holmes', 'the', 'great', 'gasby', 'hamlet', 'adventures', 'of', 'huckleberry', 'fin']\n",
    "```\n",
    "\n",
    "---\n",
    "\n",
    "\n",
    "\n",
    "```\n",
    "예시 출력)\n",
    "{'great': 2, 'expectations': 1, 'the': 2, 'adventures': 2, 'of': 2, 'sherlock': 1, 'holmes': 1, 'gasby': 1, 'hamlet': 1, 'huckleberry': 1, 'fin': 1}\n",
    "```\n"
   ]
  },
  {
   "cell_type": "code",
   "execution_count": 74,
   "metadata": {},
   "outputs": [],
   "source": [
    "book_title =  ['great', 'expectations', 'the', 'adventures', 'of', 'sherlock', 'holmes', 'the', 'great', 'gasby', 'hamlet', 'adventures', 'of', 'huckleberry', 'fin']\n",
    "\n",
    "# 아래에 코드를 작성하세요."
   ]
  },
  {
   "cell_type": "code",
   "execution_count": 78,
   "metadata": {},
   "outputs": [
    {
     "name": "stdout",
     "output_type": "stream",
     "text": [
      "{'apple': '사과', 'banana': '바나나'}\n"
     ]
    }
   ],
   "source": [
    "test_dict = {}\n",
    "test_dict['apple'] = '사과'\n",
    "test_dict['banana'] = '바나나'\n",
    "print(test_dict)"
   ]
  },
  {
   "cell_type": "code",
   "execution_count": 82,
   "metadata": {},
   "outputs": [
    {
     "name": "stdout",
     "output_type": "stream",
     "text": [
      "{'great': 2, 'expectations': 1, 'the': 2, 'adventures': 2, 'of': 2, 'sherlock': 1, 'holmes': 1, 'gasby': 1, 'hamlet': 1, 'huckleberry': 1, 'fin': 1}\n"
     ]
    }
   ],
   "source": [
    "title_counter = {}\n",
    "for title in book_title:\n",
    "    title_counter[title] = book_title.count(title)\n",
    "print(title_counter)\n",
    "# count는 시퀀스 타입이 가질 수 있는 함수"
   ]
  },
  {
   "cell_type": "markdown",
   "metadata": {},
   "source": [
    "> `get(key[, default])`\n",
    "* key 가 딕셔너리에 있는 경우 key 에 대응하는 값을 돌려주고, 그렇지 않으면 default 를 돌려준다. "
   ]
  },
  {
   "cell_type": "markdown",
   "metadata": {},
   "source": [
    "## `range()` 함수\n",
    "- 숫자들의 시퀀스로 반복 할 필요가 있으면 사용하는 함수입니다. 수열을 만듭니다.\n",
    "\n",
    "\n",
    "`range(start, stop[, step])`\n",
    "- step 인자가 생략되면 기본값 `1`이 사용된다. \n",
    "- start 인자가 생략되면 기본값 `0`이 사용된다. \n",
    "- step 이 `0`이면 `ValueError`를 일으킨다.\n",
    "\n",
    "\n",
    "**장점**\n",
    "- list 나 tuple 에 비해 범위의 크기에 무관하게 항상 같은 (작은) 양의 메모리를 사용한다. (start, stop, step 값만을 저장)."
   ]
  },
  {
   "cell_type": "markdown",
   "metadata": {},
   "source": [
    "**주의사항**\n",
    "- range() 가 돌려준 객체(iterable)는 리스트인 것 같지만, 리스트가 아니다. \n",
    "- 반복(이터레이트)할 때 원하는 시퀀스 항목들을 순서대로 돌려주는 객체이지만, 실제로 리스트를 만들지 않아서 공간을 절약하는 것이다."
   ]
  },
  {
   "cell_type": "code",
   "execution_count": 85,
   "metadata": {},
   "outputs": [
    {
     "name": "stdout",
     "output_type": "stream",
     "text": [
      "range(0, 10)\n"
     ]
    }
   ],
   "source": [
    "print(range(10))"
   ]
  },
  {
   "cell_type": "code",
   "execution_count": 86,
   "metadata": {},
   "outputs": [
    {
     "data": {
      "text/plain": [
       "[0, 1, 2, 3, 4, 5, 6, 7, 8, 9]"
      ]
     },
     "execution_count": 86,
     "metadata": {},
     "output_type": "execute_result"
    }
   ],
   "source": [
    "list(range(10))"
   ]
  },
  {
   "cell_type": "code",
   "execution_count": 87,
   "metadata": {},
   "outputs": [
    {
     "name": "stdout",
     "output_type": "stream",
     "text": [
      "0\n",
      "1\n",
      "2\n",
      "3\n",
      "4\n",
      "5\n",
      "6\n",
      "7\n",
      "8\n",
      "9\n"
     ]
    }
   ],
   "source": [
    "# range 함수로 0~9 범위를 반복하는 for 문을 작성해봅시다.\n",
    "for i in range(10):\n",
    "    print(i)"
   ]
  },
  {
   "cell_type": "markdown",
   "metadata": {},
   "source": [
    "## `break`, `continue`, `else`, `pass`\n",
    "\n",
    "### `break`\n",
    "\n",
    "`break` 문은 반복문을 종료하는 표현입니다. \n",
    "\n",
    "`for` 나 `while` 문으로부터 빠져나가게 만듭니다."
   ]
  },
  {
   "cell_type": "code",
   "execution_count": null,
   "metadata": {},
   "outputs": [],
   "source": [
    "# break 문을 활용해봅시다."
   ]
  },
  {
   "cell_type": "code",
   "execution_count": 88,
   "metadata": {},
   "outputs": [
    {
     "name": "stdout",
     "output_type": "stream",
     "text": [
      "0\n",
      "1\n",
      "2\n",
      "3\n",
      "4\n",
      "5\n"
     ]
    }
   ],
   "source": [
    "for i in range(10):\n",
    "    if i > 5:\n",
    "        break\n",
    "    print(i)"
   ]
  },
  {
   "cell_type": "markdown",
   "metadata": {},
   "source": [
    "### `break` 작성하기\n",
    "\n",
    "> 조건문과 반복문, `break`를 활용하여 리스트에서 쌀이 나왔을때 `for` 문을 멈추는 코드를 작성하세요.\n",
    "\n",
    "```python\n",
    "rice = ['보리', '보리', '보리', '쌀', '보리']\n",
    "```\n",
    "\n",
    "---\n",
    "\n",
    "```\n",
    "예시 출력)\n",
    "보리\n",
    "보리\n",
    "보리\n",
    "쌀\n",
    "잡았다!\n",
    "```"
   ]
  },
  {
   "cell_type": "code",
   "execution_count": 90,
   "metadata": {},
   "outputs": [],
   "source": [
    "rice = ['보리', '보리', '보리', '쌀', '보리']\n",
    "\n",
    "# 아래에 코드를 작성하세요."
   ]
  },
  {
   "cell_type": "code",
   "execution_count": 100,
   "metadata": {
    "scrolled": true
   },
   "outputs": [
    {
     "name": "stdout",
     "output_type": "stream",
     "text": [
      "보리\n",
      "보리\n",
      "보리\n",
      "쌀\n",
      "잡았다!\n"
     ]
    }
   ],
   "source": [
    "for i in rice:\n",
    "    if i == '쌀':\n",
    "        print(i)\n",
    "        print('잡았다!')\n",
    "        break\n",
    "    print(i)"
   ]
  },
  {
   "cell_type": "markdown",
   "metadata": {},
   "source": [
    "> 조건문과 반복문, break를 활용하여 다음 headlines 리스트의 요소들을 130자 크기의 하나의 문자열로 이어 붙이는 코드를 작성하세요.\n",
    "\n",
    "```python\n",
    "headlines = [\n",
    "    \"Local Bear Eaten by Man\",\n",
    "    \"Legislature Announces New Laws\",\n",
    "    \"Peasant Discovers Violence Inherent in System\",\n",
    "    \"Cat Rescues Fireman Stuck in Tree\",\n",
    "    \"Brave Knight Runs Away\",\n",
    "    \"Papperbok Review: Totally Triffic\"\n",
    "]\n",
    "```\n",
    "\n",
    "---\n",
    "\n",
    "```\n",
    "예시 출력)\n",
    "Local Bear Eaten by Man Legislature Announces New Laws Peasant Discovers Violence Inherent in System Cat Rescues Fireman Stuck in\n",
    "```"
   ]
  },
  {
   "cell_type": "code",
   "execution_count": 101,
   "metadata": {},
   "outputs": [],
   "source": [
    "headlines = [\n",
    "    'Local Bear Eaten by Man',\n",
    "    'Legislature Announces New Laws',\n",
    "    'Peasant Discovers Violence Inherent in System',\n",
    "    'Cat Rescues Fireman Stuck in Tree',\n",
    "    'Brave Knight Runs Away',\n",
    "    'Papperbok Review: Totally Triffic',\n",
    "]\n",
    "\n",
    "# 아래에 코드를 작성하세요."
   ]
  },
  {
   "cell_type": "code",
   "execution_count": 103,
   "metadata": {},
   "outputs": [
    {
     "name": "stdout",
     "output_type": "stream",
     "text": [
      "Local Bear Eaten by ManLegislature Announces New LawsPeasant Discovers Violence Inherent in SystemCat Rescues Fireman Stuck in Tre\n"
     ]
    }
   ],
   "source": [
    "result = ''\n",
    "for headline in headlines:\n",
    "    result += headline\n",
    "    if len(result) >= 130:\n",
    "        result = result[0:130]\n",
    "print(result)"
   ]
  },
  {
   "cell_type": "markdown",
   "metadata": {},
   "source": [
    "### `continue` \n",
    "\n",
    "`continue`문은 continue 이후의 코드를 수행하지 않고 다음 요소를 선택해 반복을 계속 수행합니다."
   ]
  },
  {
   "cell_type": "code",
   "execution_count": null,
   "metadata": {},
   "outputs": [],
   "source": [
    "# continue 문을 활용해봅시다."
   ]
  },
  {
   "cell_type": "code",
   "execution_count": 104,
   "metadata": {},
   "outputs": [
    {
     "name": "stdout",
     "output_type": "stream",
     "text": [
      "0짝수\n",
      "2짝수\n",
      "4짝수\n",
      "6짝수\n",
      "8짝수\n"
     ]
    }
   ],
   "source": [
    "for i in range(10):\n",
    "    if i % 2 == 1:\n",
    "        continue\n",
    "        print(f'{i}홀수')\n",
    "    print(f'{i}짝수')"
   ]
  },
  {
   "cell_type": "markdown",
   "metadata": {},
   "source": [
    "### `continue` 작성하기\n",
    "\n",
    "> 나이가 입력된 리스트가 있을때,\n",
    "> 조건문과 반복문, continue를 활용하여 20살 이상일때만 \"성인입니다\"라는 출력을 하는 코드를 작성하세요.\n",
    "\n",
    "```python\n",
    "ages = [10, 23, 8, 30, 25, 31]\n",
    "```\n",
    "\n",
    "---\n",
    "\n",
    "```\n",
    "예시 출력)\n",
    "23 살은 성인입니다.\n",
    "30 살은 성인입니다.\n",
    "25 살은 성인입니다.\n",
    "31 살은 성인입니다.\n",
    "```"
   ]
  },
  {
   "cell_type": "code",
   "execution_count": 106,
   "metadata": {},
   "outputs": [],
   "source": [
    "ages = [10, 23, 8, 30, 25, 31]\n",
    "\n",
    "# 아래에 코드를 작성하세요."
   ]
  },
  {
   "cell_type": "code",
   "execution_count": 118,
   "metadata": {},
   "outputs": [
    {
     "name": "stdout",
     "output_type": "stream",
     "text": [
      "23 살은 성인입니다.\n",
      "30 살은 성인입니다.\n",
      "25 살은 성인입니다.\n",
      "31 살은 성인입니다.\n"
     ]
    }
   ],
   "source": [
    "for adu in ages:\n",
    "    if adu < 20:\n",
    "        continue\n",
    "        print(f'{adu} 살은 미성년자입니다.')\n",
    "        # 어차피 여기는 출력이 안되는 값이라 적을 필요가 없음\n",
    "    print(f'{adu} 살은 성인입니다.')"
   ]
  },
  {
   "cell_type": "markdown",
   "metadata": {},
   "source": [
    "### `else`\n",
    "\n",
    "- `else` 문은 끝까지 반복문을 시행한 이후에 실행된다.\n",
    "- 반복에서 리스트의 소진이나 (`for` 의 경우) 조건이 거짓이 돼서 (`while` 의 경우) 종료할 때 실행된다. \n",
    "- 하지만 반복문이 **`break` 문으로 종료할 때는 실행되지 않는다.** (`break`를 통해 중간에 종료되지 않은 경우만 실행)"
   ]
  },
  {
   "cell_type": "code",
   "execution_count": null,
   "metadata": {},
   "outputs": [],
   "source": [
    "# break가 안되는 상황을 만들어봅시다."
   ]
  },
  {
   "cell_type": "code",
   "execution_count": 119,
   "metadata": {},
   "outputs": [
    {
     "name": "stdout",
     "output_type": "stream",
     "text": [
      "0\n",
      "1\n",
      "2\n",
      "3\n",
      "4\n",
      "break 못만남\n"
     ]
    }
   ],
   "source": [
    "for i in range(5):\n",
    "    print(i)\n",
    "    if i == 100:\n",
    "        break\n",
    "else:\n",
    "    print('break 못만남')"
   ]
  },
  {
   "cell_type": "code",
   "execution_count": null,
   "metadata": {},
   "outputs": [],
   "source": [
    "# break가 되는 상황을 만들어봅시다."
   ]
  },
  {
   "cell_type": "code",
   "execution_count": 121,
   "metadata": {},
   "outputs": [
    {
     "name": "stdout",
     "output_type": "stream",
     "text": [
      "0\n",
      "1\n",
      "2\n",
      "3\n"
     ]
    }
   ],
   "source": [
    "for i in range(5):\n",
    "    print(i)\n",
    "    if i == 3:\n",
    "        break\n",
    "else:\n",
    "    print('break 못만남')\n",
    "# break로 중간에 끝났는지 안끝났는지 확인하기 위해 else를 사용할 수 있음"
   ]
  },
  {
   "cell_type": "markdown",
   "metadata": {},
   "source": [
    "### `else` 문 작성하기\n",
    "\n",
    "> 조건문과 반복문, break, else 를 통해서 아래의 코드와 동일한 코드를 작성하세요.\n",
    "* 3이 있을 경우 True를 print하고, 아닐 경우 False를 print 한다.\n",
    "\n",
    "```python\n",
    "numbers = [1, 5, 10]\n",
    "```\n",
    "\n",
    "---\n",
    "\n",
    "```\n",
    "예시 출력)\n",
    "False\n",
    "```"
   ]
  },
  {
   "cell_type": "code",
   "execution_count": 129,
   "metadata": {},
   "outputs": [],
   "source": [
    "numbers = [1, 5, 10]\n",
    "\n",
    "# 아래에 코드를 작성하세요."
   ]
  },
  {
   "cell_type": "code",
   "execution_count": 130,
   "metadata": {},
   "outputs": [
    {
     "name": "stdout",
     "output_type": "stream",
     "text": [
      "False\n"
     ]
    }
   ],
   "source": [
    "for i in numbers:\n",
    "    if i == 3:\n",
    "        print(True)\n",
    "        break\n",
    "else:\n",
    "    print(False)"
   ]
  },
  {
   "cell_type": "markdown",
   "metadata": {},
   "source": [
    "### `pass`\n",
    "pass 문은 아무것도 하지 않습니다. \n",
    "문법적으로 문장이 필요하지만, 프로그램이 특별히 할 일이 없을 때 자리를 채우는 용도로 사용할 수 있습니다."
   ]
  },
  {
   "cell_type": "markdown",
   "metadata": {},
   "source": [
    "**`pass` 와 `continue` 차이**"
   ]
  },
  {
   "cell_type": "code",
   "execution_count": 131,
   "metadata": {},
   "outputs": [
    {
     "name": "stdout",
     "output_type": "stream",
     "text": [
      "0\n",
      "1\n",
      "2\n",
      "3\n",
      "4\n"
     ]
    }
   ],
   "source": [
    "# pass\n",
    "for i in range(5):\n",
    "    if i == 3:\n",
    "        pass\n",
    "    print(i)"
   ]
  },
  {
   "cell_type": "code",
   "execution_count": 133,
   "metadata": {},
   "outputs": [
    {
     "name": "stdout",
     "output_type": "stream",
     "text": [
      "0\n",
      "1\n",
      "2\n",
      "4\n"
     ]
    }
   ],
   "source": [
    "# continue\n",
    "# pass\n",
    "for i in range(5):\n",
    "    if i == 3:\n",
    "        continue\n",
    "    print(i)"
   ]
  },
  {
   "cell_type": "code",
   "execution_count": 1,
   "metadata": {},
   "outputs": [],
   "source": [
    "for i in range(5):\n",
    "    pass\n",
    "# error 피하고 일단 실행시켜보고 싶을 때 사용!!"
   ]
  },
  {
   "cell_type": "markdown",
   "metadata": {},
   "source": [
    "# homework day2"
   ]
  },
  {
   "cell_type": "code",
   "execution_count": 5,
   "metadata": {},
   "outputs": [
    {
     "name": "stdout",
     "output_type": "stream",
     "text": [
      "[1, 2, 3, 100, 5]\n"
     ]
    }
   ],
   "source": [
    "# list는 mutable 합니다.\n",
    "a = [1,2,3,4,5]\n",
    "a[3] = 100\n",
    "print(a)"
   ]
  },
  {
   "cell_type": "code",
   "execution_count": 8,
   "metadata": {},
   "outputs": [
    {
     "name": "stdout",
     "output_type": "stream",
     "text": [
      "4\n",
      "12345\n"
     ]
    }
   ],
   "source": [
    "a = '12345'\n",
    "print(a[3])\n",
    "print(a)"
   ]
  },
  {
   "cell_type": "code",
   "execution_count": 13,
   "metadata": {},
   "outputs": [
    {
     "name": "stdout",
     "output_type": "stream",
     "text": [
      "[1, 2, 3, 4, 5, 6, 7, 8, 9, 10, 11, 12, 13, 14, 15, 16, 17, 18, 19, 20, 21, 22, 23, 24, 25, 26, 27, 28, 29, 30, 31, 32, 33, 34, 35, 36, 37, 38, 39, 40, 41, 42, 43, 44, 45, 46, 47, 48, 49, 50]\n",
      "[1, 3, 5, 7, 9, 11, 13, 15, 17, 19, 21, 23, 25, 27, 29, 31, 33, 35, 37, 39, 41, 43, 45, 47, 49]\n"
     ]
    }
   ],
   "source": [
    "numbers = list(range(1,51))\n",
    "print(numbers)\n",
    "result = numbers[0:-1:2]\n",
    "print(result)"
   ]
  },
  {
   "cell_type": "code",
   "execution_count": 14,
   "metadata": {},
   "outputs": [],
   "source": [
    "student = {\n",
    "    'john': 100,\n",
    "    'neo': 5,\n",
    "    \n",
    "}"
   ]
  },
  {
   "cell_type": "markdown",
   "metadata": {},
   "source": [
    "# workshop day2"
   ]
  },
  {
   "cell_type": "code",
   "execution_count": 21,
   "metadata": {},
   "outputs": [
    {
     "name": "stdout",
     "output_type": "stream",
     "text": [
      "*****\n",
      "*****\n",
      "*****\n",
      "*****\n",
      "*****\n",
      "*****\n",
      "*****\n",
      "*****\n",
      "*****\n"
     ]
    }
   ],
   "source": [
    "n = 5\n",
    "m = 9\n",
    "for height in range(m):\n",
    "    for width in range(n):\n",
    "        print('*', end='')\n",
    "    print('')"
   ]
  },
  {
   "cell_type": "code",
   "execution_count": 27,
   "metadata": {},
   "outputs": [
    {
     "name": "stdout",
     "output_type": "stream",
     "text": [
      "80\n",
      "99\n",
      "89\n",
      "83\n"
     ]
    }
   ],
   "source": [
    "student = {'python': 80, 'algorithm': 99, 'django': 89, 'flask': 83}\n",
    "for val in dict.values(student):\n",
    "    print(val)"
   ]
  },
  {
   "cell_type": "code",
   "execution_count": 35,
   "metadata": {},
   "outputs": [
    {
     "name": "stdout",
     "output_type": "stream",
     "text": [
      "87.75\n"
     ]
    },
    {
     "data": {
      "text/plain": [
       "87.75"
      ]
     },
     "execution_count": 35,
     "metadata": {},
     "output_type": "execute_result"
    }
   ],
   "source": [
    "student = {'python': 80, 'algorithm': 99, 'django': 89, 'flask': 83}\n",
    "score_sum = 0\n",
    "for score in student.values():\n",
    "    score_sum = score_sum + score\n",
    "\n",
    "#print(student.keys())\n",
    "# key만 불러옴\n",
    "# 이렇게도 출력이 가능하지만 과목이 늘어났을때는 평균이 안매겨짐\n",
    "#print(score_sum/4)\n",
    "print(score_sum/len(student.keys()))\n",
    "\n",
    "# 더 짧게 쓰는 방법\n",
    "sum(student.values())/len(student.keys())"
   ]
  },
  {
   "cell_type": "code",
   "execution_count": 43,
   "metadata": {},
   "outputs": [
    {
     "name": "stdout",
     "output_type": "stream",
     "text": [
      "apple\n",
      "apple\n",
      "해당과일은 없습니다\n"
     ]
    }
   ],
   "source": [
    "fruit = {\n",
    "    '사과': 'apple',\n",
    "    '바나나': 'banana',\n",
    "}\n",
    "print(fruit['사과'])\n",
    "print(fruit.get('사과'))\n",
    "\n",
    "#print(fruit['수박'])\n",
    "print(fruit.get('수박', '해당과일은 없습니다'))"
   ]
  },
  {
   "cell_type": "code",
   "execution_count": 47,
   "metadata": {},
   "outputs": [
    {
     "name": "stdout",
     "output_type": "stream",
     "text": [
      "{'A': 3, 'B': 3, 'O': 3, 'AB': 3}\n"
     ]
    }
   ],
   "source": [
    "blood_list = ['A', 'B', 'A', 'O', 'AB', 'AB', 'O', 'A', 'B', 'O', 'B', 'AB']\n",
    "blood_dict = {}\n",
    "\n",
    "for blood in blood_list:\n",
    "    # blood_dict[blood] = blood_dict.get()\n",
    "    # blood_dict.get('A') == blood_dict['A']와 같은값\n",
    "    blood_dict[blood] = blood_dict.get(blood, 0) + 1\n",
    "    \n",
    "print(blood_dict)"
   ]
  }
 ],
 "metadata": {
  "kernelspec": {
   "display_name": "Python 3",
   "language": "python",
   "name": "python3"
  },
  "language_info": {
   "codemirror_mode": {
    "name": "ipython",
    "version": 3
   },
   "file_extension": ".py",
   "mimetype": "text/x-python",
   "name": "python",
   "nbconvert_exporter": "python",
   "pygments_lexer": "ipython3",
   "version": "3.7.3"
  },
  "toc": {
   "base_numbering": 1,
   "nav_menu": {},
   "number_sections": true,
   "sideBar": true,
   "skip_h1_title": false,
   "title_cell": "Table of Contents",
   "title_sidebar": "Contents",
   "toc_cell": false,
   "toc_position": {},
   "toc_section_display": true,
   "toc_window_display": false
  }
 },
 "nbformat": 4,
 "nbformat_minor": 2
}
